{
 "metadata": {
  "language_info": {
   "codemirror_mode": {
    "name": "ipython",
    "version": 3
   },
   "file_extension": ".py",
   "mimetype": "text/x-python",
   "name": "python",
   "nbconvert_exporter": "python",
   "pygments_lexer": "ipython3",
   "version": "3.8.1-final"
  },
  "orig_nbformat": 2,
  "kernelspec": {
   "name": "python3",
   "display_name": "Python 3.8.1 64-bit ('3.8.1')",
   "metadata": {
    "interpreter": {
     "hash": "bb6d6932d8e33c3c5c3560ec2604f663c5027d6ff7d8d71abb6cf34cc43d687d"
    }
   }
  }
 },
 "nbformat": 4,
 "nbformat_minor": 2,
 "cells": [
  {
   "cell_type": "code",
   "execution_count": 1,
   "metadata": {},
   "outputs": [],
   "source": [
    "%load_ext autoreload\n",
    "%autoreload 2"
   ]
  },
  {
   "cell_type": "code",
   "execution_count": 2,
   "metadata": {},
   "outputs": [],
   "source": [
    "from core import solve, solve_sample, prod, read_sample_input, read_input, xor\n",
    "\n",
    "import toolz.curried as tz\n",
    "import operator\n",
    "import time\n",
    "import collections\n",
    "\n",
    "import re\n",
    "\n",
    "from dataclasses import dataclass"
   ]
  },
  {
   "source": [
    "# day 1"
   ],
   "cell_type": "markdown",
   "metadata": {}
  },
  {
   "cell_type": "code",
   "execution_count": 3,
   "metadata": {},
   "outputs": [],
   "source": [
    "sample_1 = \"\"\"1\n",
    "1721\n",
    "979\n",
    "366\n",
    "299\n",
    "675\n",
    "1456\n",
    "1990\"\"\""
   ]
  },
  {
   "cell_type": "code",
   "execution_count": 4,
   "metadata": {},
   "outputs": [],
   "source": [
    "@tz.curry\n",
    "def two_elems_sum_to_target(target, sequence, is_sorted=False):\n",
    "    \"\"\"\n",
    "    Find two elements in a sequence that sum to the target\n",
    "    \"\"\"\n",
    "    def recurse(target, seq):\n",
    "        if len(seq) < 2:\n",
    "            return None\n",
    "        first, last = seq[0], seq[-1]\n",
    "        if first + last == target:\n",
    "            return first, last\n",
    "        if first + last < target:\n",
    "            return recurse(target, seq[1:])\n",
    "        return recurse(target, seq[:-1])\n",
    "\n",
    "    return recurse(target, sequence if is_sorted else sorted(sequence))"
   ]
  },
  {
   "cell_type": "code",
   "execution_count": 5,
   "metadata": {},
   "outputs": [],
   "source": [
    "def solve_1a(inp):\n",
    "    return tz.pipe(\n",
    "        inp, \n",
    "        tz.map(int), \n",
    "        list, \n",
    "        two_elems_sum_to_target(2020), \n",
    "        prod)"
   ]
  },
  {
   "cell_type": "code",
   "execution_count": 6,
   "metadata": {},
   "outputs": [
    {
     "output_type": "execute_result",
     "data": {
      "text/plain": [
       "(514579, 972576)"
      ]
     },
     "metadata": {},
     "execution_count": 6
    }
   ],
   "source": [
    "solve_sample(solve_1a, sample_1), solve(solve_1a, 1)"
   ]
  },
  {
   "cell_type": "code",
   "execution_count": 7,
   "metadata": {},
   "outputs": [],
   "source": [
    "@tz.curry\n",
    "def three_elems_sum_to_target(target, sequence):\n",
    "    sorted_sequence = sorted(sequence)\n",
    "    for idx, elem in enumerate(sorted_sequence):\n",
    "        result = two_elems_sum_to_target(\n",
    "            target - elem, \n",
    "            sorted_sequence[:idx] + sorted_sequence[(idx+1):], \n",
    "            is_sorted=True\n",
    "        )\n",
    "        if result:\n",
    "            return elem, *result\n"
   ]
  },
  {
   "cell_type": "code",
   "execution_count": 8,
   "metadata": {},
   "outputs": [],
   "source": [
    "def solve_1b(inp):\n",
    "    return tz.pipe(\n",
    "        inp, \n",
    "        tz.map(int), \n",
    "        list, \n",
    "        three_elems_sum_to_target(2020), \n",
    "        prod)"
   ]
  },
  {
   "cell_type": "code",
   "execution_count": 9,
   "metadata": {},
   "outputs": [
    {
     "output_type": "execute_result",
     "data": {
      "text/plain": [
       "(241861950, 199300880)"
      ]
     },
     "metadata": {},
     "execution_count": 9
    }
   ],
   "source": [
    "solve_sample(solve_1b, sample_1), solve(solve_1b, 1)"
   ]
  },
  {
   "source": [
    "# day 2"
   ],
   "cell_type": "markdown",
   "metadata": {}
  },
  {
   "cell_type": "code",
   "execution_count": 10,
   "metadata": {},
   "outputs": [],
   "source": [
    "sample_2 = \"\"\"1-3 a: abcde\n",
    "1-3 b: cdefg\n",
    "2-9 c: ccccccccc\"\"\""
   ]
  },
  {
   "cell_type": "code",
   "execution_count": 11,
   "metadata": {},
   "outputs": [],
   "source": [
    "password_pattern = re.compile(\"(\\d+)-(\\d+)\\s(\\w):\\s(\\w+)\")\n",
    "\n",
    "@dataclass\n",
    "class PasswordInput:\n",
    "    first: int\n",
    "    second: int\n",
    "    char: str\n",
    "    password: str\n",
    "\n",
    "def re_to_passwordinput(match):\n",
    "    first, second, char, password = match[0]\n",
    "    return PasswordInput(int(first), int(second), char, password)\n",
    "\n",
    "def password_is_valid(password_input):\n",
    "    return password_input.first <= password_input.password.count(password_input.char) <= password_input.second"
   ]
  },
  {
   "cell_type": "code",
   "execution_count": 12,
   "metadata": {},
   "outputs": [],
   "source": [
    "def solve_2a(inp):\n",
    "    return tz.pipe(\n",
    "        inp,\n",
    "        tz.map(password_pattern.findall),\n",
    "        tz.map(re_to_passwordinput),\n",
    "        tz.filter(password_is_valid),\n",
    "        tz.count\n",
    "    )"
   ]
  },
  {
   "cell_type": "code",
   "execution_count": 13,
   "metadata": {},
   "outputs": [
    {
     "output_type": "execute_result",
     "data": {
      "text/plain": [
       "(2, 493)"
      ]
     },
     "metadata": {},
     "execution_count": 13
    }
   ],
   "source": [
    "solve_sample(solve_2a, sample_2), solve(solve_2a, 2)"
   ]
  },
  {
   "cell_type": "code",
   "execution_count": 14,
   "metadata": {},
   "outputs": [],
   "source": [
    "def password_is_valid_b(password_input):\n",
    "    first_valid = password_input.password[password_input.first - 1] == password_input.char\n",
    "    second_valid = password_input.password[password_input.second - 1] == password_input.char\n",
    "    return xor(first_valid, second_valid)\n"
   ]
  },
  {
   "cell_type": "code",
   "execution_count": 15,
   "metadata": {},
   "outputs": [],
   "source": [
    "def solve_2b(inp):\n",
    "    return tz.pipe(\n",
    "        inp,\n",
    "        tz.map(password_pattern.findall),\n",
    "        tz.map(re_to_passwordinput),\n",
    "        tz.filter(password_is_valid_b),\n",
    "        tz.count\n",
    "    )"
   ]
  },
  {
   "cell_type": "code",
   "execution_count": 16,
   "metadata": {},
   "outputs": [
    {
     "output_type": "execute_result",
     "data": {
      "text/plain": [
       "(1, 593)"
      ]
     },
     "metadata": {},
     "execution_count": 16
    }
   ],
   "source": [
    "solve_sample(solve_2b, sample_2), solve(solve_2b, 2)"
   ]
  },
  {
   "source": [
    "# day 3"
   ],
   "cell_type": "markdown",
   "metadata": {}
  },
  {
   "cell_type": "code",
   "execution_count": 17,
   "metadata": {},
   "outputs": [],
   "source": [
    "sample_3 = \"\"\"..##.......\n",
    "#...#...#..\n",
    ".#....#..#.\n",
    "..#.#...#.#\n",
    ".#...##..#.\n",
    "..#.##.....\n",
    ".#.#.#....#\n",
    ".#........#\n",
    "#.##...#...\n",
    "#...##....#\n",
    ".#..#...#.#\"\"\""
   ]
  },
  {
   "cell_type": "code",
   "execution_count": 18,
   "metadata": {},
   "outputs": [],
   "source": [
    "def rot_index(idx, arr):\n",
    "    return idx % len(arr)\n",
    "\n",
    "def rot_value_at(idx, arr):\n",
    "    return arr[rot_index(idx, arr)]\n"
   ]
  },
  {
   "cell_type": "code",
   "execution_count": 19,
   "metadata": {},
   "outputs": [],
   "source": [
    "@tz.curry\n",
    "def count_trees_and_advance(right, state, section):\n",
    "    location, trees = state\n",
    "    trees += (rot_value_at(location, section) == '#')\n",
    "    location += right\n",
    "    return (location, trees)"
   ]
  },
  {
   "cell_type": "code",
   "execution_count": 20,
   "metadata": {},
   "outputs": [],
   "source": [
    "@tz.curry\n",
    "def toboggan_travel(down, right, forest):\n",
    "    return tz.pipe(\n",
    "        forest,\n",
    "        tz.take_nth(down),\n",
    "        lambda forest: tz.reduce(count_trees_and_advance(right), forest, (0, 0)),\n",
    "        tz.last\n",
    "    )"
   ]
  },
  {
   "cell_type": "code",
   "execution_count": 21,
   "metadata": {},
   "outputs": [],
   "source": [
    "def solve_3a(inp):\n",
    "    return tz.pipe(\n",
    "        inp,\n",
    "        tz.map(lambda s: s.strip()),\n",
    "        toboggan_travel(1, 3)\n",
    "    )"
   ]
  },
  {
   "cell_type": "code",
   "execution_count": 22,
   "metadata": {},
   "outputs": [
    {
     "output_type": "execute_result",
     "data": {
      "text/plain": [
       "(7, 223)"
      ]
     },
     "metadata": {},
     "execution_count": 22
    }
   ],
   "source": [
    "solve_sample(solve_3a, sample_3), solve(solve_3a, 3)"
   ]
  },
  {
   "cell_type": "code",
   "execution_count": 23,
   "metadata": {},
   "outputs": [],
   "source": [
    "def solve_3b(inp):\n",
    "    forest = tz.pipe(\n",
    "        inp,\n",
    "        tz.map(lambda s: s.strip()),\n",
    "        list\n",
    "    )\n",
    "    paths = [(1, 1), (1, 3), (1, 5), (1, 7), (2, 1)]\n",
    "    return tz.pipe(\n",
    "        paths,\n",
    "        tz.map(lambda x: toboggan_travel(*x)(forest)),\n",
    "        prod\n",
    "    )"
   ]
  },
  {
   "cell_type": "code",
   "execution_count": 24,
   "metadata": {},
   "outputs": [
    {
     "output_type": "execute_result",
     "data": {
      "text/plain": [
       "(336, 3517401300)"
      ]
     },
     "metadata": {},
     "execution_count": 24
    }
   ],
   "source": [
    "solve_sample(solve_3b, sample_3), solve(solve_3b, 3)"
   ]
  },
  {
   "source": [
    "# day 4"
   ],
   "cell_type": "markdown",
   "metadata": {}
  },
  {
   "cell_type": "code",
   "execution_count": 25,
   "metadata": {},
   "outputs": [],
   "source": [
    "sample_4 = \"\"\"ecl:gry pid:860033327 eyr:2020 hcl:#fffffd\n",
    "byr:1937 iyr:2017 cid:147 hgt:183cm\n",
    "\n",
    "iyr:2013 ecl:amb cid:350 eyr:2023 pid:028048884\n",
    "hcl:#cfa07d byr:1929\n",
    "\n",
    "hcl:#ae17e1 iyr:2013\n",
    "eyr:2024\n",
    "ecl:brn pid:760753108 byr:1931\n",
    "hgt:179cm\n",
    "\n",
    "hcl:#cfa07d eyr:2025 pid:166559648\n",
    "iyr:2011 ecl:brn hgt:59in\"\"\"\n",
    "\n",
    "required_fields = ['byr', 'iyr', 'eyr', 'hgt', 'hcl', 'ecl', 'pid']\n",
    "optional_fields = ['cid']"
   ]
  },
  {
   "cell_type": "code",
   "execution_count": 26,
   "metadata": {},
   "outputs": [],
   "source": [
    "def process_passport_input(inp):\n",
    "    return tz.pipe(\n",
    "        inp,\n",
    "        lambda s: s.split('\\n\\n'),\n",
    "        tz.map(lambda s: s.replace('\\n', ' ')),\n",
    "        tz.map(lambda s: s.split()),\n",
    "        tz.map(lambda lst: {e.split(':')[0]: e.split(':')[1] for e in lst})\n",
    "    )\n",
    "\n",
    "def is_valid_passport(passport):\n",
    "    return all(field in passport for field in required_fields)"
   ]
  },
  {
   "cell_type": "code",
   "execution_count": 27,
   "metadata": {},
   "outputs": [],
   "source": [
    "def solve_4a(inp):\n",
    "    return tz.pipe(\n",
    "        inp, \n",
    "        tz.reduce(lambda a, x: a + '\\n' + x),\n",
    "        process_passport_input,\n",
    "        tz.filter(is_valid_passport),\n",
    "        tz.count\n",
    "    )"
   ]
  },
  {
   "cell_type": "code",
   "execution_count": 28,
   "metadata": {},
   "outputs": [
    {
     "output_type": "execute_result",
     "data": {
      "text/plain": [
       "(2, 170)"
      ]
     },
     "metadata": {},
     "execution_count": 28
    }
   ],
   "source": [
    "solve_sample(solve_4a, sample_4), solve(solve_4a, 4)"
   ]
  },
  {
   "cell_type": "code",
   "execution_count": 29,
   "metadata": {},
   "outputs": [],
   "source": [
    "hcl_re = re.compile('#([a-f]|[0-9]){6}$')\n",
    "\n",
    "def is_valid_passport_b(passport):\n",
    "    if not is_valid_passport(passport):\n",
    "        return False\n",
    "\n",
    "    try:\n",
    "        assert 1920 <= int(passport['byr']) <= 2002, \"invalid byr\"\n",
    "    except:\n",
    "        return False\n",
    "\n",
    "    try:\n",
    "        assert 2010 <= int(passport['iyr']) <= 2020, \"invalid iyr\"\n",
    "    except:\n",
    "        return False\n",
    "\n",
    "    try:\n",
    "        assert 2020 <= int(passport['eyr']) <= 2030, \"invalid eyr\"\n",
    "    except:\n",
    "        return False  \n",
    "\n",
    "    try:\n",
    "        hgt_unit = passport['hgt'][-2:]\n",
    "        hgt_value = int(passport['hgt'][:-2])\n",
    "        assert hgt_unit in {'cm', 'in'}\n",
    "        if hgt_unit == 'cm':\n",
    "            assert 150 <= hgt_value <= 193\n",
    "        else:\n",
    "            assert 59 <= hgt_value <= 76\n",
    "    except:\n",
    "        return False\n",
    "\n",
    "    try: \n",
    "        assert hcl_re.search(passport['hcl'])\n",
    "    except: \n",
    "        return False\n",
    "\n",
    "    try:\n",
    "        assert passport['ecl'] in {'amb', 'blu', 'brn', 'gry', 'grn', 'hzl', 'oth'}\n",
    "    except:\n",
    "        return False\n",
    "\n",
    "    try:\n",
    "        assert len(passport['pid']) == 9\n",
    "        pid = int(passport['pid'])\n",
    "\n",
    "    except:\n",
    "        return False\n",
    "\n",
    "    return True"
   ]
  },
  {
   "cell_type": "code",
   "execution_count": 30,
   "metadata": {},
   "outputs": [],
   "source": [
    "def solve_4b(inp):\n",
    "    return tz.pipe(\n",
    "        inp, \n",
    "        tz.reduce(lambda a, x: a + '\\n' + x),\n",
    "        process_passport_input,\n",
    "        tz.filter(is_valid_passport_b),\n",
    "        tz.count\n",
    "    )"
   ]
  },
  {
   "cell_type": "code",
   "execution_count": 31,
   "metadata": {},
   "outputs": [
    {
     "output_type": "execute_result",
     "data": {
      "text/plain": [
       "(2, 103)"
      ]
     },
     "metadata": {},
     "execution_count": 31
    }
   ],
   "source": [
    "solve_sample(solve_4b, sample_4), solve(solve_4b, 4)"
   ]
  },
  {
   "source": [
    "# day 5"
   ],
   "cell_type": "markdown",
   "metadata": {}
  },
  {
   "cell_type": "code",
   "execution_count": 32,
   "metadata": {},
   "outputs": [],
   "source": [
    "sample_5 = \"\"\"FBFBBFFRLR\"\"\""
   ]
  },
  {
   "cell_type": "code",
   "execution_count": 33,
   "metadata": {},
   "outputs": [],
   "source": [
    "def convert_binary(s, zero, one):\n",
    "    return int(s.replace(zero, '0').replace(one, '1'), 2)\n",
    "\n",
    "def row_number(boarding_pass):\n",
    "    return convert_binary(boarding_pass[:7], 'F', 'B')\n",
    "\n",
    "def column_number(boarding_pass):\n",
    "    return convert_binary(boarding_pass[7:], 'L', 'R')\n",
    "\n",
    "def decode_boarding_pass(boarding_pass):\n",
    "    return row_number(boarding_pass), column_number(boarding_pass)\n",
    "\n",
    "def convert_to_id(seat):\n",
    "    row, column = seat\n",
    "    return 8*row + column"
   ]
  },
  {
   "cell_type": "code",
   "execution_count": 34,
   "metadata": {},
   "outputs": [],
   "source": [
    "def solve_5a(inp):\n",
    "    return tz.pipe(\n",
    "        inp,\n",
    "        tz.map(decode_boarding_pass),\n",
    "        tz.map(convert_to_id),\n",
    "        max\n",
    "    )"
   ]
  },
  {
   "cell_type": "code",
   "execution_count": 35,
   "metadata": {},
   "outputs": [
    {
     "output_type": "execute_result",
     "data": {
      "text/plain": [
       "(357, 911)"
      ]
     },
     "metadata": {},
     "execution_count": 35
    }
   ],
   "source": [
    "solve_sample(solve_5a, sample_5), solve(solve_5a, 5)"
   ]
  },
  {
   "cell_type": "code",
   "execution_count": 36,
   "metadata": {},
   "outputs": [],
   "source": [
    "def solve_5b(inp):\n",
    "    return tz.pipe(\n",
    "        inp,\n",
    "        tz.map(decode_boarding_pass),\n",
    "        tz.map(convert_to_id),\n",
    "        sorted,\n",
    "        tz.sliding_window(2),\n",
    "        tz.reduce(lambda a, x: a if x[1] - x[0] == 1 else x[0] + 1)\n",
    "    )"
   ]
  },
  {
   "cell_type": "code",
   "execution_count": 37,
   "metadata": {},
   "outputs": [
    {
     "output_type": "execute_result",
     "data": {
      "text/plain": [
       "629"
      ]
     },
     "metadata": {},
     "execution_count": 37
    }
   ],
   "source": [
    "solve(solve_5b, 5)"
   ]
  },
  {
   "source": [
    "# day 6"
   ],
   "cell_type": "markdown",
   "metadata": {}
  },
  {
   "cell_type": "code",
   "execution_count": 38,
   "metadata": {},
   "outputs": [],
   "source": [
    "sample_6 = \"\"\"abc\n",
    "\n",
    "a\n",
    "b\n",
    "c\n",
    "\n",
    "ab\n",
    "ac\n",
    "\n",
    "a\n",
    "a\n",
    "a\n",
    "a\n",
    "\n",
    "b\"\"\""
   ]
  },
  {
   "cell_type": "code",
   "execution_count": 39,
   "metadata": {},
   "outputs": [],
   "source": [
    "def solve_6a(inp):\n",
    "    return tz.pipe(\n",
    "            inp,\n",
    "            tz.reduce(lambda a, x: a + '\\n' + x),\n",
    "            lambda s: s.split('\\n\\n'),\n",
    "            tz.map(lambda s: s.replace('\\n', '')),\n",
    "            tz.map(set),\n",
    "            tz.map(len),\n",
    "            sum\n",
    "    )"
   ]
  },
  {
   "cell_type": "code",
   "execution_count": 40,
   "metadata": {},
   "outputs": [
    {
     "output_type": "execute_result",
     "data": {
      "text/plain": [
       "(11, 6625)"
      ]
     },
     "metadata": {},
     "execution_count": 40
    }
   ],
   "source": [
    "solve_sample(solve_6a, sample_6), solve(solve_6a, 6)"
   ]
  },
  {
   "cell_type": "code",
   "execution_count": 41,
   "metadata": {},
   "outputs": [],
   "source": [
    "def solve_6b(inp):\n",
    "    return tz.pipe(\n",
    "            inp,\n",
    "            tz.reduce(lambda a, x: a + '\\n' + x),\n",
    "            lambda s: s.split('\\n\\n'),\n",
    "            tz.map(lambda s: s.split('\\n')),\n",
    "            tz.map(tz.reduce(lambda a, x: set(a).intersection(x))),\n",
    "            tz.map(len),\n",
    "            sum\n",
    "    )"
   ]
  },
  {
   "cell_type": "code",
   "execution_count": 42,
   "metadata": {},
   "outputs": [
    {
     "output_type": "execute_result",
     "data": {
      "text/plain": [
       "(6, 3360)"
      ]
     },
     "metadata": {},
     "execution_count": 42
    }
   ],
   "source": [
    "solve_sample(solve_6b, sample_6), solve(solve_6b, 6)"
   ]
  },
  {
   "source": [
    "# day 7"
   ],
   "cell_type": "markdown",
   "metadata": {}
  },
  {
   "cell_type": "code",
   "execution_count": 43,
   "metadata": {},
   "outputs": [],
   "source": [
    "sample_7 = \"\"\"light red bags contain 1 bright white bag, 2 muted yellow bags.\n",
    "dark orange bags contain 3 bright white bags, 4 muted yellow bags.\n",
    "bright white bags contain 1 shiny gold bag.\n",
    "muted yellow bags contain 2 shiny gold bags, 9 faded blue bags.\n",
    "shiny gold bags contain 1 dark olive bag, 2 vibrant plum bags.\n",
    "dark olive bags contain 3 faded blue bags, 4 dotted black bags.\n",
    "vibrant plum bags contain 5 faded blue bags, 6 dotted black bags.\n",
    "faded blue bags contain no other bags.\n",
    "dotted black bags contain no other bags.\"\"\""
   ]
  },
  {
   "cell_type": "code",
   "execution_count": 44,
   "metadata": {},
   "outputs": [],
   "source": [
    "bag_count = re.compile(\"(\\w+\\s\\w+\\s\\w+)\\scontain\\s((\\d+\\s\\w+\\s\\w+\\s\\w+)[,.]\\s*)*\")"
   ]
  },
  {
   "cell_type": "code",
   "execution_count": 45,
   "metadata": {},
   "outputs": [],
   "source": [
    "\n",
    "\n",
    "def parse_contains(contains):\n",
    "    bags_raw = contains.split(',')\n",
    "    if bags_raw == ['no other bags.']:\n",
    "        return []\n",
    "\n",
    "    else:\n",
    "        return tz.pipe(\n",
    "            bags_raw, \n",
    "            tz.map(lambda s: '-'.join(s.strip().split(\" \")[1:3])), \n",
    "            list\n",
    "        )\n",
    "\n",
    "def parse_line(line):\n",
    "    bag, contains = line.split(\" contain \")\n",
    "    return '-'.join(bag.split(\" \")[:2]), parse_contains(contains)\n",
    "\n",
    "def reverse_dict_list(d):\n",
    "    reversed_d = collections.defaultdict(list)\n",
    "    for key, values in d.items():\n",
    "        for value in values:\n",
    "            reversed_d[value].append(key)\n",
    "\n",
    "    return dict(reversed_d)\n",
    "\n",
    "@tz.curry\n",
    "def bfs(start, graph):\n",
    "    def _bfs(visited, queue, graph):\n",
    "        if queue:\n",
    "            node = queue.pop(0)\n",
    "            return _bfs(visited.union([node]), queue + graph.get(node, []), graph)\n",
    "\n",
    "        else:\n",
    "            return visited\n",
    "\n",
    "    return _bfs(set(), [start], graph)"
   ]
  },
  {
   "cell_type": "code",
   "execution_count": 46,
   "metadata": {},
   "outputs": [
    {
     "output_type": "execute_result",
     "data": {
      "text/plain": [
       "(4, 211)"
      ]
     },
     "metadata": {},
     "execution_count": 46
    }
   ],
   "source": [
    "def solve_7a(inp): \n",
    "    return tz.pipe(\n",
    "        inp,\n",
    "        tz.map(parse_line),\n",
    "        dict,\n",
    "        reverse_dict_list,\n",
    "        bfs('shiny-gold'),\n",
    "        len\n",
    "        ) - 1\n",
    "\n",
    "solve_sample(solve_7a, sample_7), solve(solve_7a, 7)   "
   ]
  },
  {
   "cell_type": "code",
   "execution_count": 47,
   "metadata": {},
   "outputs": [],
   "source": [
    "# sorry not sorry for copy-pasta\n",
    "\n",
    "def parse_contains_count(contains):\n",
    "    bags_raw = contains.split(',')\n",
    "    if bags_raw == ['no other bags.']:\n",
    "        return []\n",
    "\n",
    "    else:\n",
    "        return tz.pipe(\n",
    "            bags_raw, \n",
    "            tz.map(lambda s: ('-'.join(s.strip().split(\" \")[1:3]), int(s.strip().split(\" \")[0]))), \n",
    "            list\n",
    "        )\n",
    "\n",
    "def parse_line_count(line):\n",
    "    bag, contains = line.split(\" contain \")\n",
    "    return '-'.join(bag.split(\" \")[:2]), parse_contains_count(contains)\n",
    "\n",
    "@tz.curry\n",
    "def count_all_the_bags(start, graph):\n",
    "    if next_nodes := graph[start]:\n",
    "\n",
    "        return sum(cnt * (1+count_all_the_bags(node, graph)) for node, cnt in next_nodes)\n",
    "    return 0"
   ]
  },
  {
   "cell_type": "code",
   "execution_count": 48,
   "metadata": {},
   "outputs": [
    {
     "output_type": "execute_result",
     "data": {
      "text/plain": [
       "(32, 12414)"
      ]
     },
     "metadata": {},
     "execution_count": 48
    }
   ],
   "source": [
    "def solve_7b(inp):\n",
    "    return tz.pipe(\n",
    "            inp,\n",
    "            tz.map(parse_line_count),\n",
    "            dict, \n",
    "            count_all_the_bags('shiny-gold')\n",
    "        )\n",
    "\n",
    "solve_sample(solve_7b, sample_7), solve(solve_7b, 7)"
   ]
  },
  {
   "source": [
    "# day 8"
   ],
   "cell_type": "markdown",
   "metadata": {}
  },
  {
   "cell_type": "code",
   "execution_count": 49,
   "metadata": {},
   "outputs": [],
   "source": [
    "sample_8 = \"\"\"nop +0\n",
    "acc +1\n",
    "jmp +4\n",
    "acc +3\n",
    "jmp -3\n",
    "acc -99\n",
    "acc +1\n",
    "jmp -4\n",
    "acc +6\"\"\""
   ]
  },
  {
   "cell_type": "code",
   "execution_count": 50,
   "metadata": {},
   "outputs": [],
   "source": [
    "s = \"acc -10\"\n",
    "def parse_instruction(op_string):\n",
    "    split = op_string.split(' ')\n",
    "    op = split[0]\n",
    "    arg = int(split[1])\n",
    "    return op, arg"
   ]
  },
  {
   "cell_type": "code",
   "execution_count": 52,
   "metadata": {},
   "outputs": [],
   "source": [
    "@tz.curry\n",
    "def exec_instructions(tape):\n",
    "    \"\"\"\n",
    "    Returns (value of accumulator, is end of tape bool)\n",
    "    \"\"\"\n",
    "    def exec(val, idx, visited):\n",
    "        if idx >= len(tape):\n",
    "            return val, True\n",
    "        if idx in visited:\n",
    "            return val, False\n",
    "        \n",
    "        op, arg = tape[idx]\n",
    "        new_visited = visited.union([idx])\n",
    "        if op == 'acc':\n",
    "            return exec(val+arg, idx+1, new_visited)\n",
    "        if op == 'jmp':\n",
    "            return exec(val, idx+arg, new_visited)\n",
    "        return exec(val, idx+1, new_visited)\n",
    "\n",
    "    return exec(0, 0, set())\n"
   ]
  },
  {
   "cell_type": "code",
   "execution_count": 53,
   "metadata": {},
   "outputs": [
    {
     "output_type": "execute_result",
     "data": {
      "text/plain": [
       "(5, 1521)"
      ]
     },
     "metadata": {},
     "execution_count": 53
    }
   ],
   "source": [
    "def solve_8a(inp):\n",
    "    return tz.pipe(inp,\n",
    "        tz.map(parse_instruction),\n",
    "        list,\n",
    "        exec_instructions,\n",
    "        tz.first)\n",
    "\n",
    "solve_sample(solve_8a, sample_8), solve(solve_8a, 8)"
   ]
  },
  {
   "cell_type": "code",
   "execution_count": 54,
   "metadata": {},
   "outputs": [],
   "source": [
    "def try_fix_tape(tape):\n",
    "    for idx, (op, arg) in enumerate(tape):\n",
    "        if op in {'jmp', 'nop'}:\n",
    "            new_tape = tape[:]\n",
    "            new_tape[idx] = 'nop' if op == 'jmp' else 'jmp', arg\n",
    "            yield new_tape"
   ]
  },
  {
   "cell_type": "code",
   "execution_count": 55,
   "metadata": {},
   "outputs": [
    {
     "output_type": "execute_result",
     "data": {
      "text/plain": [
       "(8, 1016)"
      ]
     },
     "metadata": {},
     "execution_count": 55
    }
   ],
   "source": [
    "def solve_8b(inp):\n",
    "    return tz.pipe(inp,\n",
    "        tz.map(parse_instruction),\n",
    "        list,\n",
    "        try_fix_tape,\n",
    "        tz.map(exec_instructions),\n",
    "        tz.filter(lambda res: res[1]),  # find result that finishes at end of tape\n",
    "        tz.first, # get the first solution\n",
    "        tz.first  # get value of accumulator\n",
    "        )\n",
    "        \n",
    "solve_sample(solve_8b, sample_8), solve(solve_8b, 8)"
   ]
  },
  {
   "source": [
    "# day 9"
   ],
   "cell_type": "markdown",
   "metadata": {}
  },
  {
   "cell_type": "code",
   "execution_count": 56,
   "metadata": {},
   "outputs": [],
   "source": [
    "sample_9 = \"\"\"35\n",
    "20\n",
    "15\n",
    "25\n",
    "47\n",
    "40\n",
    "62\n",
    "55\n",
    "65\n",
    "95\n",
    "102\n",
    "117\n",
    "150\n",
    "182\n",
    "127\n",
    "219\n",
    "299\n",
    "277\n",
    "309\n",
    "576\"\"\""
   ]
  },
  {
   "cell_type": "code",
   "execution_count": 69,
   "metadata": {},
   "outputs": [
    {
     "output_type": "execute_result",
     "data": {
      "text/plain": [
       "(127, 1492208709)"
      ]
     },
     "metadata": {},
     "execution_count": 69
    }
   ],
   "source": [
    "def solve_9a(inp, preamble=25):\n",
    "    return tz.pipe(inp,\n",
    "        tz.map(int),\n",
    "        tz.sliding_window(preamble+1),\n",
    "        tz.filter(tz.complement(is_valid_xmas_sequence)),\n",
    "        tz.first,\n",
    "        tz.last\n",
    "    )\n",
    "\n",
    "solve_sample(solve_9a, sample_9, 5), solve(solve_9a, 9)"
   ]
  },
  {
   "cell_type": "code",
   "execution_count": 83,
   "metadata": {},
   "outputs": [],
   "source": [
    "def is_valid_xmas_sequence(seq):\n",
    "    *prev, target = seq\n",
    "    soln = two_elems_sum_to_target(target, prev)\n",
    "    return soln is not None"
   ]
  },
  {
   "cell_type": "code",
   "execution_count": 111,
   "metadata": {},
   "outputs": [],
   "source": [
    "@tz.curry\n",
    "def contiguous_sum(target, seq):\n",
    "    \"\"\"\n",
    "    Return a contiguous subsequence that sums to target value\n",
    "    \"\"\"\n",
    "    def recurse(start, end, current):\n",
    "        if current == target:\n",
    "            return seq[start:end]\n",
    "        if current > target:\n",
    "            return recurse(start+1, end, current-seq[start])\n",
    "        if current < target:\n",
    "            return recurse(start, end+1, current+seq[end])\n",
    "    # could refactor to only use generator to save memory\n",
    "    seq = list(seq)\n",
    "    return recurse(0, 0, 0)"
   ]
  },
  {
   "cell_type": "code",
   "execution_count": 115,
   "metadata": {},
   "outputs": [
    {
     "output_type": "execute_result",
     "data": {
      "text/plain": [
       "(62, 238243506)"
      ]
     },
     "metadata": {},
     "execution_count": 115
    }
   ],
   "source": [
    "def solve_9b(inp, preamble=25):\n",
    "    # need to use input twice\n",
    "    inp = list(inp)\n",
    "    target = solve_9a(inp, preamble)\n",
    "    return tz.pipe(\n",
    "        inp,\n",
    "        tz.map(int),\n",
    "        contiguous_sum(target),\n",
    "        lambda seq: min(seq) + max(seq)\n",
    "    )\n",
    "\n",
    "solve_sample(solve_9b, sample_9, 5), solve(solve_9b, 9, 25)"
   ]
  },
  {
   "cell_type": "code",
   "execution_count": 114,
   "metadata": {},
   "outputs": [
    {
     "output_type": "execute_result",
     "data": {
      "text/plain": [
       "(62, 238243506)"
      ]
     },
     "metadata": {},
     "execution_count": 114
    }
   ],
   "source": []
  },
  {
   "cell_type": "code",
   "execution_count": null,
   "metadata": {},
   "outputs": [],
   "source": []
  }
 ]
}