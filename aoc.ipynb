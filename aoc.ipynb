{
 "metadata": {
  "language_info": {
   "codemirror_mode": {
    "name": "ipython",
    "version": 3
   },
   "file_extension": ".py",
   "mimetype": "text/x-python",
   "name": "python",
   "nbconvert_exporter": "python",
   "pygments_lexer": "ipython3",
   "version": "3.8.1-final"
  },
  "orig_nbformat": 2,
  "kernelspec": {
   "name": "python3",
   "display_name": "Python 3.8.1 64-bit ('3.8.1')",
   "metadata": {
    "interpreter": {
     "hash": "bb6d6932d8e33c3c5c3560ec2604f663c5027d6ff7d8d71abb6cf34cc43d687d"
    }
   }
  }
 },
 "nbformat": 4,
 "nbformat_minor": 2,
 "cells": [
  {
   "cell_type": "code",
   "execution_count": 1,
   "metadata": {},
   "outputs": [],
   "source": [
    "%load_ext autoreload\n",
    "%autoreload 2"
   ]
  },
  {
   "cell_type": "code",
   "execution_count": 17,
   "metadata": {},
   "outputs": [],
   "source": [
    "from core import solve, solve_sample, prod, read_sample_input\n",
    "\n",
    "import toolz.curried as tz\n",
    "\n",
    "import operator"
   ]
  },
  {
   "source": [
    "# day 1"
   ],
   "cell_type": "markdown",
   "metadata": {}
  },
  {
   "cell_type": "code",
   "execution_count": 3,
   "metadata": {},
   "outputs": [],
   "source": [
    "sample_1 = \"\"\"\n",
    "1\n",
    "1721\n",
    "979\n",
    "366\n",
    "299\n",
    "675\n",
    "1456\n",
    "1990\n",
    "\"\"\""
   ]
  },
  {
   "cell_type": "code",
   "execution_count": 4,
   "metadata": {},
   "outputs": [],
   "source": [
    "@tz.curry\n",
    "def two_elems_sum_to_target(target, sequence, is_sorted=False):\n",
    "    \"\"\"\n",
    "    Find two elements in a sequence that sum to the target\n",
    "    \"\"\"\n",
    "    def recurse(target, seq):\n",
    "        if len(seq) < 2:\n",
    "            return None\n",
    "        first, last = seq[0], seq[-1]\n",
    "        if first + last == target:\n",
    "            return first, last\n",
    "        if first + last < target:\n",
    "            return recurse(target, seq[1:])\n",
    "        return recurse(target, seq[:-1])\n",
    "\n",
    "    return recurse(target, sequence if is_sorted else sorted(sequence))"
   ]
  },
  {
   "cell_type": "code",
   "execution_count": 8,
   "metadata": {},
   "outputs": [],
   "source": [
    "def solve_1a(inp):\n",
    "    return tz.pipe(\n",
    "        inp, \n",
    "        tz.map(int), \n",
    "        list, \n",
    "        two_elems_sum_to_target(2020), \n",
    "        prod)"
   ]
  },
  {
   "cell_type": "code",
   "execution_count": 11,
   "metadata": {},
   "outputs": [
    {
     "output_type": "execute_result",
     "data": {
      "text/plain": [
       "(514579, 972576)"
      ]
     },
     "metadata": {},
     "execution_count": 11
    }
   ],
   "source": [
    "solve_sample(solve_1a, sample_1), solve(solve_1a, 1)"
   ]
  },
  {
   "cell_type": "code",
   "execution_count": 13,
   "metadata": {},
   "outputs": [],
   "source": [
    "@tz.curry\n",
    "def three_elems_sum_to_target(target, sequence):\n",
    "    sorted_sequence = sorted(sequence)\n",
    "    for idx, elem in enumerate(sorted_sequence):\n",
    "        result = two_elems_sum_to_target(target - elem, sorted_sequence[:idx] + sorted_sequence[(idx+1):])\n",
    "        if result:\n",
    "            return elem, *result\n"
   ]
  },
  {
   "cell_type": "code",
   "execution_count": 19,
   "metadata": {},
   "outputs": [],
   "source": [
    "def solve_1b(inp):\n",
    "    return tz.pipe(\n",
    "        inp, \n",
    "        tz.map(int), \n",
    "        list, \n",
    "        three_elems_sum_to_target(2020), \n",
    "        prod)"
   ]
  },
  {
   "cell_type": "code",
   "execution_count": 20,
   "metadata": {},
   "outputs": [
    {
     "output_type": "execute_result",
     "data": {
      "text/plain": [
       "(241861950, 199300880)"
      ]
     },
     "metadata": {},
     "execution_count": 20
    }
   ],
   "source": [
    "solve_sample(solve_1b, sample_1), solve(solve_1b, 1)"
   ]
  }
 ]
}