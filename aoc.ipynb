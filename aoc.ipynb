{
 "metadata": {
  "language_info": {
   "codemirror_mode": {
    "name": "ipython",
    "version": 3
   },
   "file_extension": ".py",
   "mimetype": "text/x-python",
   "name": "python",
   "nbconvert_exporter": "python",
   "pygments_lexer": "ipython3",
   "version": "3.8.1-final"
  },
  "orig_nbformat": 2,
  "kernelspec": {
   "name": "python3",
   "display_name": "Python 3.8.1 64-bit ('3.8.1')",
   "metadata": {
    "interpreter": {
     "hash": "bb6d6932d8e33c3c5c3560ec2604f663c5027d6ff7d8d71abb6cf34cc43d687d"
    }
   }
  }
 },
 "nbformat": 4,
 "nbformat_minor": 2,
 "cells": [
  {
   "cell_type": "code",
   "execution_count": 1,
   "metadata": {},
   "outputs": [],
   "source": [
    "%load_ext autoreload\n",
    "%autoreload 2"
   ]
  },
  {
   "cell_type": "code",
   "execution_count": 97,
   "metadata": {},
   "outputs": [],
   "source": [
    "from core import solve, solve_sample, prod, read_sample_input, xor\n",
    "\n",
    "import toolz.curried as tz\n",
    "import operator\n",
    "import time\n",
    "\n",
    "import re\n",
    "\n",
    "from dataclasses import dataclass"
   ]
  },
  {
   "source": [
    "# day 1"
   ],
   "cell_type": "markdown",
   "metadata": {}
  },
  {
   "cell_type": "code",
   "execution_count": 3,
   "metadata": {},
   "outputs": [],
   "source": [
    "sample_1 = \"\"\"\n",
    "1\n",
    "1721\n",
    "979\n",
    "366\n",
    "299\n",
    "675\n",
    "1456\n",
    "1990\n",
    "\"\"\""
   ]
  },
  {
   "cell_type": "code",
   "execution_count": 4,
   "metadata": {},
   "outputs": [],
   "source": [
    "@tz.curry\n",
    "def two_elems_sum_to_target(target, sequence, is_sorted=False):\n",
    "    \"\"\"\n",
    "    Find two elements in a sequence that sum to the target\n",
    "    \"\"\"\n",
    "    def recurse(target, seq):\n",
    "        if len(seq) < 2:\n",
    "            return None\n",
    "        first, last = seq[0], seq[-1]\n",
    "        if first + last == target:\n",
    "            return first, last\n",
    "        if first + last < target:\n",
    "            return recurse(target, seq[1:])\n",
    "        return recurse(target, seq[:-1])\n",
    "\n",
    "    return recurse(target, sequence if is_sorted else sorted(sequence))"
   ]
  },
  {
   "cell_type": "code",
   "execution_count": 8,
   "metadata": {},
   "outputs": [],
   "source": [
    "def solve_1a(inp):\n",
    "    return tz.pipe(\n",
    "        inp, \n",
    "        tz.map(int), \n",
    "        list, \n",
    "        two_elems_sum_to_target(2020), \n",
    "        prod)"
   ]
  },
  {
   "cell_type": "code",
   "execution_count": 11,
   "metadata": {},
   "outputs": [
    {
     "output_type": "execute_result",
     "data": {
      "text/plain": [
       "(514579, 972576)"
      ]
     },
     "metadata": {},
     "execution_count": 11
    }
   ],
   "source": [
    "solve_sample(solve_1a, sample_1), solve(solve_1a, 1)"
   ]
  },
  {
   "cell_type": "code",
   "execution_count": 22,
   "metadata": {},
   "outputs": [],
   "source": [
    "@tz.curry\n",
    "def three_elems_sum_to_target(target, sequence):\n",
    "    sorted_sequence = sorted(sequence)\n",
    "    for idx, elem in enumerate(sorted_sequence):\n",
    "        result = two_elems_sum_to_target(\n",
    "            target - elem, \n",
    "            sorted_sequence[:idx] + sorted_sequence[(idx+1):], \n",
    "            is_sorted=True\n",
    "        )\n",
    "        if result:\n",
    "            return elem, *result\n"
   ]
  },
  {
   "cell_type": "code",
   "execution_count": 19,
   "metadata": {},
   "outputs": [],
   "source": [
    "def solve_1b(inp):\n",
    "    return tz.pipe(\n",
    "        inp, \n",
    "        tz.map(int), \n",
    "        list, \n",
    "        three_elems_sum_to_target(2020), \n",
    "        prod)"
   ]
  },
  {
   "cell_type": "code",
   "execution_count": 20,
   "metadata": {},
   "outputs": [
    {
     "output_type": "execute_result",
     "data": {
      "text/plain": [
       "(241861950, 199300880)"
      ]
     },
     "metadata": {},
     "execution_count": 20
    }
   ],
   "source": [
    "solve_sample(solve_1b, sample_1), solve(solve_1b, 1)"
   ]
  },
  {
   "source": [
    "# day 2"
   ],
   "cell_type": "markdown",
   "metadata": {}
  },
  {
   "cell_type": "code",
   "execution_count": 29,
   "metadata": {},
   "outputs": [],
   "source": [
    "sample_2 = \"\"\"\n",
    "1-3 a: abcde\n",
    "1-3 b: cdefg\n",
    "2-9 c: ccccccccc\n",
    "\"\"\""
   ]
  },
  {
   "cell_type": "code",
   "execution_count": 101,
   "metadata": {},
   "outputs": [],
   "source": [
    "password_pattern = re.compile(\"(\\d+)-(\\d+)\\s(\\w):\\s(\\w+)\")\n",
    "\n",
    "@dataclass\n",
    "class PasswordInput:\n",
    "    first: int\n",
    "    second: int\n",
    "    char: str\n",
    "    password: str\n",
    "\n",
    "def re_to_passwordinput(match):\n",
    "    first, second, char, password = match[0]\n",
    "    return PasswordInput(int(first), int(second), char, password)\n",
    "\n",
    "def password_is_valid(password_input):\n",
    "    return password_input.first <= password_input.password.count(password_input.char) <= password_input.second"
   ]
  },
  {
   "cell_type": "code",
   "execution_count": 102,
   "metadata": {},
   "outputs": [],
   "source": [
    "def solve_2a(inp):\n",
    "    return tz.pipe(\n",
    "        inp,\n",
    "        tz.map(password_pattern.findall),\n",
    "        tz.map(re_to_passwordinput),\n",
    "        tz.filter(password_is_valid),\n",
    "        tz.count\n",
    "    )"
   ]
  },
  {
   "cell_type": "code",
   "execution_count": 103,
   "metadata": {},
   "outputs": [
    {
     "output_type": "execute_result",
     "data": {
      "text/plain": [
       "(2, 493)"
      ]
     },
     "metadata": {},
     "execution_count": 103
    }
   ],
   "source": [
    "solve_sample(solve_2a, sample_2), solve(solve_2a, 2)"
   ]
  },
  {
   "cell_type": "code",
   "execution_count": 104,
   "metadata": {},
   "outputs": [],
   "source": [
    "def password_is_valid_b(password_input):\n",
    "    first_valid = password_input.password[password_input.first - 1] == password_input.char\n",
    "    second_valid = password_input.password[password_input.second - 1] == password_input.char\n",
    "    return xor(first_valid, second_valid)\n"
   ]
  },
  {
   "cell_type": "code",
   "execution_count": 105,
   "metadata": {},
   "outputs": [],
   "source": [
    "def solve_2b(inp):\n",
    "    return tz.pipe(\n",
    "        inp,\n",
    "        tz.map(password_pattern.findall),\n",
    "        tz.map(re_to_passwordinput),\n",
    "        tz.filter(password_is_valid_b),\n",
    "        tz.count\n",
    "    )"
   ]
  },
  {
   "cell_type": "code",
   "execution_count": 106,
   "metadata": {},
   "outputs": [
    {
     "output_type": "execute_result",
     "data": {
      "text/plain": [
       "(1, 593)"
      ]
     },
     "metadata": {},
     "execution_count": 106
    }
   ],
   "source": [
    "solve_sample(solve_2b, sample_2), solve(solve_2b, 2)"
   ]
  },
  {
   "source": [
    "# day 3"
   ],
   "cell_type": "markdown",
   "metadata": {}
  },
  {
   "cell_type": "code",
   "execution_count": 107,
   "metadata": {},
   "outputs": [],
   "source": [
    "sample_3 = \"\"\"\n",
    "..##.......\n",
    "#...#...#..\n",
    ".#....#..#.\n",
    "..#.#...#.#\n",
    ".#...##..#.\n",
    "..#.##.....\n",
    ".#.#.#....#\n",
    ".#........#\n",
    "#.##...#...\n",
    "#...##....#\n",
    ".#..#...#.#\n",
    "\"\"\""
   ]
  },
  {
   "cell_type": "code",
   "execution_count": 278,
   "metadata": {},
   "outputs": [],
   "source": [
    "def rot_index(idx, arr):\n",
    "    return idx % len(arr)\n",
    "\n",
    "def rot_value_at(idx, arr):\n",
    "    return arr[rot_index(idx, arr)]\n"
   ]
  },
  {
   "cell_type": "code",
   "execution_count": 296,
   "metadata": {},
   "outputs": [],
   "source": [
    "@tz.curry\n",
    "def count_trees_and_advance(right, state, section):\n",
    "    location, trees = state\n",
    "    trees += (rot_value_at(location, section) == '#')\n",
    "    location += right\n",
    "    return (location, trees)"
   ]
  },
  {
   "cell_type": "code",
   "execution_count": null,
   "metadata": {},
   "outputs": [],
   "source": [
    "def toboggan_travel(forest, down=1, right=1):\n",
    "    return tz.pipe(\n",
    "        forest,\n",
    "        tz.take_nth(down),\n",
    "        lambda forest: tz.reduce(count_trees_and_advance(right), forest, (0, 0)),\n",
    "        tz.last\n",
    "    )"
   ]
  },
  {
   "cell_type": "code",
   "execution_count": 305,
   "metadata": {},
   "outputs": [],
   "source": [
    "def solve_3a(inp):\n",
    "    return tz.pipe(\n",
    "        inp,\n",
    "        tz.map(lambda s: s.strip()),\n",
    "        lambda forest: tz.reduce(count_trees_and_advance(3), forest, (0, 0)),\n",
    "        tz.last\n",
    "    )"
   ]
  },
  {
   "cell_type": "code",
   "execution_count": 306,
   "metadata": {},
   "outputs": [
    {
     "output_type": "execute_result",
     "data": {
      "text/plain": [
       "(7, 223)"
      ]
     },
     "metadata": {},
     "execution_count": 306
    }
   ],
   "source": [
    "solve_sample(solve_3a, sample_3), solve(solve_3a, 3)"
   ]
  },
  {
   "cell_type": "code",
   "execution_count": 313,
   "metadata": {},
   "outputs": [
    {
     "output_type": "execute_result",
     "data": {
      "text/plain": [
       "[]"
      ]
     },
     "metadata": {},
     "execution_count": 313
    }
   ],
   "source": [
    "forest"
   ]
  },
  {
   "cell_type": "code",
   "execution_count": 321,
   "metadata": {},
   "outputs": [
    {
     "output_type": "error",
     "ename": "TypeError",
     "evalue": "'function' object is not iterable",
     "traceback": [
      "\u001b[0;31m---------------------------------------------------------------------------\u001b[0m",
      "\u001b[0;31mTypeError\u001b[0m                                 Traceback (most recent call last)",
      "\u001b[0;32m~/.pyenv/versions/3.8.1/lib/python3.8/site-packages/toolz/itertoolz.py\u001b[0m in \u001b[0;36mtail\u001b[0;34m(n, seq)\u001b[0m\n\u001b[1;32m    342\u001b[0m     \u001b[0;32mtry\u001b[0m\u001b[0;34m:\u001b[0m\u001b[0;34m\u001b[0m\u001b[0;34m\u001b[0m\u001b[0m\n\u001b[0;32m--> 343\u001b[0;31m         \u001b[0;32mreturn\u001b[0m \u001b[0mseq\u001b[0m\u001b[0;34m[\u001b[0m\u001b[0;34m-\u001b[0m\u001b[0mn\u001b[0m\u001b[0;34m:\u001b[0m\u001b[0;34m]\u001b[0m\u001b[0;34m\u001b[0m\u001b[0;34m\u001b[0m\u001b[0m\n\u001b[0m\u001b[1;32m    344\u001b[0m     \u001b[0;32mexcept\u001b[0m \u001b[0;34m(\u001b[0m\u001b[0mTypeError\u001b[0m\u001b[0;34m,\u001b[0m \u001b[0mKeyError\u001b[0m\u001b[0;34m)\u001b[0m\u001b[0;34m:\u001b[0m\u001b[0;34m\u001b[0m\u001b[0;34m\u001b[0m\u001b[0m\n",
      "\u001b[0;31mTypeError\u001b[0m: 'function' object is not subscriptable",
      "\nDuring handling of the above exception, another exception occurred:\n",
      "\u001b[0;31mTypeError\u001b[0m                                 Traceback (most recent call last)",
      "\u001b[0;32m<ipython-input-321-f7c829b30e8a>\u001b[0m in \u001b[0;36m<module>\u001b[0;34m\u001b[0m\n\u001b[1;32m      5\u001b[0m )\n\u001b[1;32m      6\u001b[0m \u001b[0;34m\u001b[0m\u001b[0m\n\u001b[0;32m----> 7\u001b[0;31m tz.pipe(\n\u001b[0m\u001b[1;32m      8\u001b[0m     \u001b[0;34m[\u001b[0m\u001b[0;36m1\u001b[0m\u001b[0;34m,\u001b[0m \u001b[0;36m3\u001b[0m\u001b[0;34m,\u001b[0m \u001b[0;36m5\u001b[0m\u001b[0;34m,\u001b[0m \u001b[0;36m7\u001b[0m\u001b[0;34m]\u001b[0m\u001b[0;34m,\u001b[0m\u001b[0;34m\u001b[0m\u001b[0;34m\u001b[0m\u001b[0m\n\u001b[1;32m      9\u001b[0m     tz.map(\n",
      "\u001b[0;32m~/.pyenv/versions/3.8.1/lib/python3.8/site-packages/toolz/functoolz.py\u001b[0m in \u001b[0;36mpipe\u001b[0;34m(data, *funcs)\u001b[0m\n\u001b[1;32m    625\u001b[0m     \"\"\"\n\u001b[1;32m    626\u001b[0m     \u001b[0;32mfor\u001b[0m \u001b[0mfunc\u001b[0m \u001b[0;32min\u001b[0m \u001b[0mfuncs\u001b[0m\u001b[0;34m:\u001b[0m\u001b[0;34m\u001b[0m\u001b[0;34m\u001b[0m\u001b[0m\n\u001b[0;32m--> 627\u001b[0;31m         \u001b[0mdata\u001b[0m \u001b[0;34m=\u001b[0m \u001b[0mfunc\u001b[0m\u001b[0;34m(\u001b[0m\u001b[0mdata\u001b[0m\u001b[0;34m)\u001b[0m\u001b[0;34m\u001b[0m\u001b[0;34m\u001b[0m\u001b[0m\n\u001b[0m\u001b[1;32m    628\u001b[0m     \u001b[0;32mreturn\u001b[0m \u001b[0mdata\u001b[0m\u001b[0;34m\u001b[0m\u001b[0;34m\u001b[0m\u001b[0m\n\u001b[1;32m    629\u001b[0m \u001b[0;34m\u001b[0m\u001b[0m\n",
      "\u001b[0;32m<ipython-input-321-f7c829b30e8a>\u001b[0m in \u001b[0;36m<lambda>\u001b[0;34m(steps)\u001b[0m\n\u001b[1;32m      9\u001b[0m     tz.map(\n\u001b[1;32m     10\u001b[0m     \u001b[0;32mlambda\u001b[0m \u001b[0msteps\u001b[0m\u001b[0;34m:\u001b[0m\u001b[0;34m\u001b[0m\u001b[0;34m\u001b[0m\u001b[0m\n\u001b[0;32m---> 11\u001b[0;31m         tz.pipe(\n\u001b[0m\u001b[1;32m     12\u001b[0m             \u001b[0;32mlambda\u001b[0m \u001b[0mforest\u001b[0m\u001b[0;34m:\u001b[0m \u001b[0mtz\u001b[0m\u001b[0;34m.\u001b[0m\u001b[0mreduce\u001b[0m\u001b[0;34m(\u001b[0m\u001b[0mcount_trees_and_advance\u001b[0m\u001b[0;34m(\u001b[0m\u001b[0msteps\u001b[0m\u001b[0;34m)\u001b[0m\u001b[0;34m,\u001b[0m \u001b[0mforest\u001b[0m\u001b[0;34m,\u001b[0m \u001b[0;34m(\u001b[0m\u001b[0;36m0\u001b[0m\u001b[0;34m,\u001b[0m \u001b[0;36m0\u001b[0m\u001b[0;34m)\u001b[0m\u001b[0;34m)\u001b[0m\u001b[0;34m,\u001b[0m\u001b[0;34m\u001b[0m\u001b[0;34m\u001b[0m\u001b[0m\n\u001b[1;32m     13\u001b[0m             \u001b[0mtz\u001b[0m\u001b[0;34m.\u001b[0m\u001b[0mlast\u001b[0m\u001b[0;34m\u001b[0m\u001b[0;34m\u001b[0m\u001b[0m\n",
      "\u001b[0;32m~/.pyenv/versions/3.8.1/lib/python3.8/site-packages/toolz/functoolz.py\u001b[0m in \u001b[0;36mpipe\u001b[0;34m(data, *funcs)\u001b[0m\n\u001b[1;32m    625\u001b[0m     \"\"\"\n\u001b[1;32m    626\u001b[0m     \u001b[0;32mfor\u001b[0m \u001b[0mfunc\u001b[0m \u001b[0;32min\u001b[0m \u001b[0mfuncs\u001b[0m\u001b[0;34m:\u001b[0m\u001b[0;34m\u001b[0m\u001b[0;34m\u001b[0m\u001b[0m\n\u001b[0;32m--> 627\u001b[0;31m         \u001b[0mdata\u001b[0m \u001b[0;34m=\u001b[0m \u001b[0mfunc\u001b[0m\u001b[0;34m(\u001b[0m\u001b[0mdata\u001b[0m\u001b[0;34m)\u001b[0m\u001b[0;34m\u001b[0m\u001b[0;34m\u001b[0m\u001b[0m\n\u001b[0m\u001b[1;32m    628\u001b[0m     \u001b[0;32mreturn\u001b[0m \u001b[0mdata\u001b[0m\u001b[0;34m\u001b[0m\u001b[0;34m\u001b[0m\u001b[0m\n\u001b[1;32m    629\u001b[0m \u001b[0;34m\u001b[0m\u001b[0m\n",
      "\u001b[0;32m~/.pyenv/versions/3.8.1/lib/python3.8/site-packages/toolz/itertoolz.py\u001b[0m in \u001b[0;36mlast\u001b[0;34m(seq)\u001b[0m\n\u001b[1;32m    406\u001b[0m     \u001b[0;34m'C'\u001b[0m\u001b[0;34m\u001b[0m\u001b[0;34m\u001b[0m\u001b[0m\n\u001b[1;32m    407\u001b[0m     \"\"\"\n\u001b[0;32m--> 408\u001b[0;31m     \u001b[0;32mreturn\u001b[0m \u001b[0mtail\u001b[0m\u001b[0;34m(\u001b[0m\u001b[0;36m1\u001b[0m\u001b[0;34m,\u001b[0m \u001b[0mseq\u001b[0m\u001b[0;34m)\u001b[0m\u001b[0;34m[\u001b[0m\u001b[0;36m0\u001b[0m\u001b[0;34m]\u001b[0m\u001b[0;34m\u001b[0m\u001b[0;34m\u001b[0m\u001b[0m\n\u001b[0m\u001b[1;32m    409\u001b[0m \u001b[0;34m\u001b[0m\u001b[0m\n\u001b[1;32m    410\u001b[0m \u001b[0;34m\u001b[0m\u001b[0m\n",
      "\u001b[0;32m~/.pyenv/versions/3.8.1/lib/python3.8/site-packages/toolz/itertoolz.py\u001b[0m in \u001b[0;36mtail\u001b[0;34m(n, seq)\u001b[0m\n\u001b[1;32m    343\u001b[0m         \u001b[0;32mreturn\u001b[0m \u001b[0mseq\u001b[0m\u001b[0;34m[\u001b[0m\u001b[0;34m-\u001b[0m\u001b[0mn\u001b[0m\u001b[0;34m:\u001b[0m\u001b[0;34m]\u001b[0m\u001b[0;34m\u001b[0m\u001b[0;34m\u001b[0m\u001b[0m\n\u001b[1;32m    344\u001b[0m     \u001b[0;32mexcept\u001b[0m \u001b[0;34m(\u001b[0m\u001b[0mTypeError\u001b[0m\u001b[0;34m,\u001b[0m \u001b[0mKeyError\u001b[0m\u001b[0;34m)\u001b[0m\u001b[0;34m:\u001b[0m\u001b[0;34m\u001b[0m\u001b[0;34m\u001b[0m\u001b[0m\n\u001b[0;32m--> 345\u001b[0;31m         \u001b[0;32mreturn\u001b[0m \u001b[0mtuple\u001b[0m\u001b[0;34m(\u001b[0m\u001b[0mcollections\u001b[0m\u001b[0;34m.\u001b[0m\u001b[0mdeque\u001b[0m\u001b[0;34m(\u001b[0m\u001b[0mseq\u001b[0m\u001b[0;34m,\u001b[0m \u001b[0mn\u001b[0m\u001b[0;34m)\u001b[0m\u001b[0;34m)\u001b[0m\u001b[0;34m\u001b[0m\u001b[0;34m\u001b[0m\u001b[0m\n\u001b[0m\u001b[1;32m    346\u001b[0m \u001b[0;34m\u001b[0m\u001b[0m\n\u001b[1;32m    347\u001b[0m \u001b[0;34m\u001b[0m\u001b[0m\n",
      "\u001b[0;31mTypeError\u001b[0m: 'function' object is not iterable"
     ]
    }
   ],
   "source": [
    "forest = tz.pipe(\n",
    "    read_sample_input(sample_3), \n",
    "    tz.map(lambda s: s.strip()),\n",
    "    list\n",
    ")\n",
    "\n",
    "tz.pipe(\n",
    "    [1, 3, 5, 7], \n",
    "    tz.map(\n",
    "    lambda steps:\n",
    "        tz.pipe(\n",
    "            lambda forest: tz.reduce(count_trees_and_advance(steps), forest, (0, 0)),\n",
    "            tz.last\n",
    "        )),\n",
    "    list\n",
    ")"
   ]
  },
  {
   "cell_type": "code",
   "execution_count": 323,
   "metadata": {},
   "outputs": [
    {
     "output_type": "execute_result",
     "data": {
      "text/plain": [
       "[1, 9, 25, 49]"
      ]
     },
     "metadata": {},
     "execution_count": 323
    }
   ],
   "source": [
    "tz.pipe(\n",
    "    [1, 3, 5, 7], \n",
    "    tz.map(\n",
    "    lambda x:\n",
    "        x**2),\n",
    "    list\n",
    ")"
   ]
  },
  {
   "cell_type": "code",
   "execution_count": null,
   "metadata": {},
   "outputs": [],
   "source": []
  }
 ]
}